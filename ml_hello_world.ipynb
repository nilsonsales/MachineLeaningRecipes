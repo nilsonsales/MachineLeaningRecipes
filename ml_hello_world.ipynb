{
  "nbformat": 4,
  "nbformat_minor": 0,
  "metadata": {
    "colab": {
      "name": "ml_hello_world.ipynb",
      "version": "0.3.2",
      "views": {},
      "default_view": {},
      "provenance": [
        {
          "file_id": "14Yazp2Qq5QEgKCV4sUfGoQlcS71eynO1",
          "timestamp": 1524627335334
        }
      ],
      "collapsed_sections": []
    },
    "kernelspec": {
      "name": "python3",
      "display_name": "Python 3"
    }
  },
  "cells": [
    {
      "metadata": {
        "id": "3oMHSnGkkmUK",
        "colab_type": "text"
      },
      "cell_type": "markdown",
      "source": [
        "# Machine Learning Recipes #1\n",
        "\n",
        "This tutorial aims to write a \"hello world\" Machine Learning program using scikit-learn and TensorFlow. It's all based on Google Developers' course available on [YouTube](https://www.youtube.com/watch?v=cKxRvEZd3Mw).\n",
        "\n",
        "\n"
      ]
    },
    {
      "metadata": {
        "id": "T9JpSB_V0ZeF",
        "colab_type": "text"
      },
      "cell_type": "markdown",
      "source": [
        "## > What is Machine Learning?\n",
        "\n",
        "\n",
        "It's the study of algorithms that can learn from examples and experience instead of writing hard code rules. Our model will be \"fed\" with lots of examples, and using some classifier it will tell in which **class** a new given example fits better.\n",
        "\n",
        "### Supervised learning\n",
        "Supervised learning is \"*the machine learning task of learning a function that maps an input to an output based on example input-output pairs*\" (RUSSELL, NORVIG, 2010). Basically, it creates a classifier by finding patterns in examples. Every class is labeled as the elements in it. These labels have been given by a human being who supervised the problem before (in unsupervised techniques, there aren't labels).\n",
        "\n",
        "<br>\n",
        "\n",
        "Now let's write a code that tells the difference between oranges and apples. We will follow this sequence:\n",
        "\n",
        "1.   collect training data\n",
        "2.   train classifier\n",
        "3.   make prediction by our trained model\n",
        "\n",
        "We will need ScikitLearn, so let's import it at the beginning:"
      ]
    },
    {
      "metadata": {
        "id": "LUH97_fxkW7R",
        "colab_type": "code",
        "colab": {
          "autoexec": {
            "startup": false,
            "wait_interval": 0
          }
        }
      },
      "cell_type": "code",
      "source": [
        "import sklearn"
      ],
      "execution_count": 0,
      "outputs": []
    },
    {
      "metadata": {
        "id": "6B7WHam8nr9y",
        "colab_type": "text"
      },
      "cell_type": "markdown",
      "source": [
        "### 1. Collecting training data\n",
        "\n",
        "Our traning data is made of a list of features that describe our elements, followed by a label, that says what kind of fruit each element is. You can see features as the inputs and labels as the outputs that we want.\n",
        "\n",
        "We will have only two features in our first example:\n",
        "\n",
        "\n",
        "*   Weight\n",
        "*   Texture\n",
        "\n",
        "And, let's write our label separated:\n",
        "\n",
        "*   Label\n",
        "\n",
        "It's important to mention that for a better classification, we must change our categorical variables to numbers. So, instead of \"smooth\" and \"bumpy\", for texture, lets use 0 and 1.\n",
        "   \n",
        "\n",
        ">   \"smooth\" -> 0\n",
        "\n",
        ">   \"bumpy\" -> 1\n",
        "\n",
        "The same for labels: instead of \"apples\" and \"orange\", let's use 0 and 1.\n",
        "\n",
        ">   \"apple\" -> 0\n",
        "\n",
        ">   \"orange\" -> 1\n"
      ]
    },
    {
      "metadata": {
        "id": "XwyBp8iJnAPU",
        "colab_type": "code",
        "colab": {
          "autoexec": {
            "startup": false,
            "wait_interval": 0
          }
        }
      },
      "cell_type": "code",
      "source": [
        "features = [[140, 0],[130, 0],[150, 1],[170, 1]]\n",
        "labels = [0, 0, 1, 1] "
      ],
      "execution_count": 0,
      "outputs": []
    },
    {
      "metadata": {
        "id": "rJyO_TmpwlAU",
        "colab_type": "text"
      },
      "cell_type": "markdown",
      "source": [
        "### 2. Trainining our classifier\n",
        "\n",
        "Now let's use our data to train a model. We will use the Decision Tree technique. This technique us basically a \"box of rules\". \n"
      ]
    },
    {
      "metadata": {
        "id": "3HQiOPEnx6ys",
        "colab_type": "code",
        "colab": {
          "autoexec": {
            "startup": false,
            "wait_interval": 0
          }
        }
      },
      "cell_type": "code",
      "source": [
        "from sklearn import tree\n",
        "clf = tree.DecisionTreeClassifier()\n",
        "clf = clf.fit(features, labels)"
      ],
      "execution_count": 0,
      "outputs": []
    },
    {
      "metadata": {
        "id": "PF8bW1uxyQFS",
        "colab_type": "text"
      },
      "cell_type": "markdown",
      "source": [
        "Our classifier starts as an empty box. To train it, we need a leaning algorithm. The Decision Tree algorithm will find patters in our training data. For example: if it sees that oranges are usually heavier than apples, it will create a rule that heavier fruits are more likely to be oranges. That's what we did in the last line, we trained our model with our data, so it could learn about their features."
      ]
    },
    {
      "metadata": {
        "id": "CwtviqNGz36M",
        "colab_type": "text"
      },
      "cell_type": "markdown",
      "source": [
        "### 3. Making predictions\n",
        "\n",
        "Now that we have a trained model, let's use it to guess if a given fruit is an apple or an orange."
      ]
    },
    {
      "metadata": {
        "id": "2td8W1WS2zDL",
        "colab_type": "code",
        "colab": {
          "autoexec": {
            "startup": false,
            "wait_interval": 0
          },
          "base_uri": "https://localhost:8080/",
          "height": 34
        },
        "outputId": "4ab591f8-5e00-441a-db34-ae519b21306b",
        "executionInfo": {
          "status": "ok",
          "timestamp": 1524627237929,
          "user_tz": 180,
          "elapsed": 661,
          "user": {
            "displayName": "Nilson Sales",
            "photoUrl": "//lh3.googleusercontent.com/-66gGxiG_egE/AAAAAAAAAAI/AAAAAAAADhU/6stIRJBKtxw/s50-c-k-no/photo.jpg",
            "userId": "106802123548197307884"
          }
        }
      },
      "cell_type": "code",
      "source": [
        "print(clf.predict([[160, 0]])) # 160g, smooth"
      ],
      "execution_count": 0,
      "outputs": [
        {
          "output_type": "stream",
          "text": [
            "[0]\n"
          ],
          "name": "stdout"
        }
      ]
    },
    {
      "metadata": {
        "id": "4lzTB4sK3DKY",
        "colab_type": "text"
      },
      "cell_type": "markdown",
      "source": [
        "The prediction is 0 for apple or 1 for orange."
      ]
    }
  ]
}